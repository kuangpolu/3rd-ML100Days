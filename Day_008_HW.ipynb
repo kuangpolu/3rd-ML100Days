{
 "cells": [
  {
   "cell_type": "code",
   "execution_count": 2,
   "metadata": {},
   "outputs": [
    {
     "data": {
      "image/png": "[encoded data removed]",
      "text/plain": [
       "<Figure size 432x288 with 1 Axes>"
      ]
     },
     "metadata": {
      "needs_background": "light"
     },
     "output_type": "display_data"
    },
    {
     "data": {
      "text/plain": [
       " 365243    55374\n",
       "-200         156\n",
       "-224         152\n",
       "-199         151\n",
       "-230         151\n",
       "-212         150\n",
       "-229         143\n",
       "-384         143\n",
       "-231         140\n",
       "-215         138\n",
       "-207         138\n",
       "-188         137\n",
       "-216         137\n",
       "-116         136\n",
       "-196         136\n",
       "-222         135\n",
       "-193         134\n",
       "-195         133\n",
       "-214         132\n",
       "-213         131\n",
       "-254         131\n",
       "-381         130\n",
       "-201         130\n",
       "-233         128\n",
       "-185         128\n",
       "-237         127\n",
       "-194         127\n",
       "-184         126\n",
       "-234         126\n",
       "-209         125\n",
       "           ...  \n",
       "-12768         1\n",
       "-10604         1\n",
       "-10857         1\n",
       "-8810          1\n",
       "-14955         1\n",
       "-11113         1\n",
       "-11369         1\n",
       "-13420         1\n",
       "-10346         1\n",
       "-10860         1\n",
       "-12649         1\n",
       "-10358         1\n",
       "-12650         1\n",
       "-10870         1\n",
       "-12919         1\n",
       "-14968         1\n",
       "-13175         1\n",
       "-11382         1\n",
       "-10101         1\n",
       "-12150         1\n",
       "-10603         1\n",
       "-12393         1\n",
       "-9694          1\n",
       "-11741         1\n",
       "-13162         1\n",
       "-11115         1\n",
       "-11371         1\n",
       "-11883         1\n",
       "-13536         1\n",
       "-8795          1\n",
       "Name: DAYS_EMPLOYED, Length: 12574, dtype: int64"
      ]
     },
     "execution_count": 2,
     "metadata": {},
     "output_type": "execute_result"
    }
   ],
   "source": [
    "import os\n",
    "import numpy as np\n",
    "import pandas as pd\n",
    "\n",
    "# 設定 data_path\n",
    "dir_data = 'C:/Users/Kuang/Documents/GitHub/data/'\n",
    "\n",
    "f_app_train = os.path.join(dir_data, 'application_train.csv')\n",
    "app_train = pd.read_csv(f_app_train)\n",
    "\n",
    "import matplotlib.pyplot as plt\n",
    "%matplotlib inline\n",
    "\n",
    "(app_train['DAYS_EMPLOYED'] / 365).describe()\n",
    "plt.hist(app_train['DAYS_EMPLOYED'])\n",
    "plt.show()\n",
    "app_train['DAYS_EMPLOYED'].value_counts()"
   ]
  },
  {
   "cell_type": "code",
   "execution_count": null,
   "metadata": {},
   "outputs": [],
   "source": []
  },
  {
   "cell_type": "code",
   "execution_count": null,
   "metadata": {},
   "outputs": [],
   "source": []
  }
 ],
 "metadata": {
  "kernelspec": {
   "display_name": "Python 3",
   "language": "python",
   "name": "python3"
  },
  "language_info": {
   "codemirror_mode": {
    "name": "ipython",
    "version": 3
   },
   "file_extension": ".py",
   "mimetype": "text/x-python",
   "name": "python",
   "nbconvert_exporter": "python",
   "pygments_lexer": "ipython3",
   "version": "3.7.3"
  }
 },
 "nbformat": 4,
 "nbformat_minor": 2
}
