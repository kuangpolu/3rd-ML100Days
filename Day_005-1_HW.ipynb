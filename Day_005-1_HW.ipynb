{
 "cells": [
  {
   "cell_type": "code",
   "execution_count": 9,
   "metadata": {},
   "outputs": [
    {
     "name": "stdout",
     "output_type": "stream",
     "text": [
      "  countrys  populations\n",
      "0   Taiwan            9\n",
      "1    japan            0\n",
      "2    japan            1\n",
      "3   Taiwan            0\n",
      "countrys\n",
      "Taiwan    4.5\n",
      "japan     0.5\n",
      "Name: populations, dtype: float64\n"
     ]
    }
   ],
   "source": [
    "import pandas as pd\n",
    "import numpy as np\n",
    "import random\n",
    "import os\n",
    "\n",
    "import sys\n",
    "import os\n",
    "\n",
    "#way02\n",
    "country = ['Taiwan', 'japan', 'japan', 'Taiwan']\n",
    "population = np.random.randint(0,10,size=4)   #隨機產生數字\n",
    "\n",
    "list_labels = ['countrys', 'populations']     #合併的表投\n",
    "list_cols = [country, population]              #合併的col欄位\n",
    "\n",
    "combine = list(zip(list_labels, list_cols))\n",
    "solution = pd.DataFrame(dict(combine))\n",
    "\n",
    "solution.groupby(by=\"countrys\")['populations'].mean()\n",
    "\n",
    "print (solution)\n",
    "print (solution.groupby(by=\"countrys\")['populations'].mean())\n"
   ]
  },
  {
   "cell_type": "code",
   "execution_count": null,
   "metadata": {},
   "outputs": [],
   "source": []
  },
  {
   "cell_type": "code",
   "execution_count": null,
   "metadata": {},
   "outputs": [],
   "source": []
  },
  {
   "cell_type": "code",
   "execution_count": null,
   "metadata": {},
   "outputs": [],
   "source": []
  },
  {
   "cell_type": "code",
   "execution_count": null,
   "metadata": {},
   "outputs": [],
   "source": []
  },
  {
   "cell_type": "code",
   "execution_count": null,
   "metadata": {},
   "outputs": [],
   "source": []
  }
 ],
 "metadata": {
  "kernelspec": {
   "display_name": "Python 3",
   "language": "python",
   "name": "python3"
  },
  "language_info": {
   "codemirror_mode": {
    "name": "ipython",
    "version": 3
   },
   "file_extension": ".py",
   "mimetype": "text/x-python",
   "name": "python",
   "nbconvert_exporter": "python",
   "pygments_lexer": "ipython3",
   "version": "3.7.3"
  }
 },
 "nbformat": 4,
 "nbformat_minor": 2
}
