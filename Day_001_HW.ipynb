{
 "cells": [
  {
   "cell_type": "code",
   "execution_count": 28,
   "metadata": {},
   "outputs": [
    {
     "name": "stdout",
     "output_type": "stream",
     "text": [
      "The Mean absolute error is 10.555\n",
      "The Mean squared error is 176.826\n"
     ]
    },
    {
     "data": {
      "text/plain": [
       "'\\n你選的這組資料為何重要\\n\\n資料從何而來 (tips: 譬如提供者是誰、以什麼方式蒐集)\\n\\n蒐集而來的資料型態為何\\n\\n這組資料想解決的問題如何評估\\n'"
      ]
     },
     "execution_count": 28,
     "metadata": {},
     "output_type": "execute_result"
    }
   ],
   "source": [
    "import numpy as np\n",
    "import matplotlib.pyplot as plt\n",
    "\n",
    "#範例是MAE，作業是MSE\n",
    "# y: 實際值\n",
    "# yp: 預測值\n",
    "\n",
    "def mean_absolute_error(y, yp):\n",
    "    # MAE : 將兩個陣列相減後, 取絕對值(abs), 再將整個陣列加總成一個數字(sum), 最後除以y的長度(len), 因此稱為\"平均絕對誤差\"\n",
    "    mae = MAE = sum(abs(y - yp)) / len(y)\n",
    "    return mae\n",
    "    \n",
    "# 定義 mean_squared_error 這個函數, 計算並傳回 MSE\n",
    "def mean_squared_error(y, yp):\n",
    "    # MSE : 將兩個陣列相減後, 二次方,再將整個陣列加總成一個數字(sum),除以y的長度(len)\n",
    "    mse = MSE = sum((y - yp)**2) / len(y)\n",
    "    return mse\n",
    "                    \n",
    "w = 3\n",
    "b = 0.5\n",
    "x_lin = np.linspace(0, 100, 101)\n",
    "y = (x_lin + np.random.randn(101) * 5) * w + b\n",
    "\n",
    "#plt.plot(x_lin, y, 'b.', label = 'data points')\n",
    "#plt.title(\"Assume we have data points\")\n",
    "#plt.legend(loc = 2)\n",
    "#plt.show()\n",
    "\n",
    "y_hat = x_lin * w + b\n",
    "#plt.plot(x_lin, y, 'b.', label = 'data')\n",
    "#plt.plot(x_lin, y_hat, 'r-', label = 'prediction')\n",
    "#plt.title(\"Assume we have data points (And the prediction)\")\n",
    "#plt.legend(loc = 2)\n",
    "#plt.show()\n",
    "\n",
    "MSE = mean_squared_error(y, y_hat)\n",
    "MAE = mean_absolute_error(y, y_hat)\n",
    "print (\"The Mean absolute error is %.3f\" % (MAE))\n",
    "print (\"The Mean squared error is %.3f\" % (MSE))\n",
    "'''\n",
    "#作業2：\n",
    "請上 Kaggle, 在 Competitions 或 Dataset 中找一組競賽或資料並寫下：\n",
    "\n",
    "我選了:https://www.kaggle.com/cdeotte/25-million-images-0-99757-mnis\n",
    "你選的這組資料為何重要\n",
    "    答:視覺變是很重要\n",
    "資料從何而來 (tips: 譬如提供者是誰、以什麼方式蒐集)\n",
    "    答:網路上看\n",
    "蒐集而來的資料型態為何\n",
    "    答:圖形\n",
    "這組資料想解決的問題如何評估\n",
    "    答:辨識數字\n",
    "'''\n",
    "'''\n",
    "#作業3：\n",
    "想像你經營一個自由載客車隊，你希望能透過數據分析以提升業績，請你思考並描述你如何規劃整體的分析/解決方案：\n",
    "核心問題為何 (tips：如何定義 「提升業績 & 你的假設」)\n",
    "    答:提高營收/業績\n",
    "資料從何而來 (tips：哪些資料可能會對你想問的問題產生影響 & 資料如何蒐集)\n",
    "    答:電話訪問\n",
    "蒐集而來的資料型態為何\n",
    "    答:常派分部\n",
    "你要回答的問題，其如何評估 (tips：你的假設如何驗證)\n",
    "    答:計算是否有相關性\n",
    "''''''"
   ]
  },
  {
   "cell_type": "code",
   "execution_count": null,
   "metadata": {},
   "outputs": [],
   "source": []
  },
  {
   "cell_type": "code",
   "execution_count": null,
   "metadata": {},
   "outputs": [],
   "source": []
  },
  {
   "cell_type": "code",
   "execution_count": null,
   "metadata": {},
   "outputs": [],
   "source": []
  },
  {
   "cell_type": "code",
   "execution_count": null,
   "metadata": {},
   "outputs": [],
   "source": []
  }
 ],
 "metadata": {
  "kernelspec": {
   "display_name": "Python 3",
   "language": "python",
   "name": "python3"
  },
  "language_info": {
   "codemirror_mode": {
    "name": "ipython",
    "version": 3
   },
   "file_extension": ".py",
   "mimetype": "text/x-python",
   "name": "python",
   "nbconvert_exporter": "python",
   "pygments_lexer": "ipython3",
   "version": "3.7.3"
  }
 },
 "nbformat": 4,
 "nbformat_minor": 2
}
